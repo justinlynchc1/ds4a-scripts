{
 "cells": [
  {
   "cell_type": "markdown",
   "metadata": {},
   "source": [
    "#  This is a demo to test dependency versions"
   ]
  },
  {
   "cell_type": "code",
   "execution_count": 15,
   "metadata": {},
   "outputs": [],
   "source": [
    "import pandas              as pd             # The gold standard of Python data analysis, to create and manipulate tables of data\n",
    "import numpy               as np             # The Python module for processing arrays which/Pandas is based on\n",
    "import matplotlib.pyplot   as plt            # The gold standard of Python data visualization, but can be complex to use\n",
    "import seaborn             as sns; sns.set() # A package to make Matplotlib visualizations more aesthetic\n",
    "import branca\n",
    "import geopandas\n",
    "import folium                                # package for making maps, please make sure to use a version older than 1.0.0.\n",
    "from wordcloud import WordCloud              # A package that will allow us to make a wordcloud\n",
    "from scipy.stats import ttest_ind            # A module for Python machine learning--we'll stick to T-Tests here\n",
    "from IPython.display import display\n",
    "from folium.plugins import TimeSliderChoropleth"
   ]
  },
  {
   "cell_type": "code",
   "execution_count": 16,
   "metadata": {},
   "outputs": [
    {
     "name": "stdout",
     "output_type": "stream",
     "text": [
      "0.25.1\n",
      "1.17.2\n",
      "0.9.0\n",
      "0.3.1\n",
      "0.6.0\n",
      "0.10.0\n"
     ]
    }
   ],
   "source": [
    "print(pd.__version__)\n",
    "print(np.__version__)\n",
    "print(sns.__version__)\n",
    "print(branca.__version__)\n",
    "print(geopandas.__version__)\n",
    "print(folium.__version__)"
   ]
  },
  {
   "cell_type": "code",
   "execution_count": null,
   "metadata": {},
   "outputs": [],
   "source": []
  }
 ],
 "metadata": {
  "anaconda-cloud": {},
  "kernelspec": {
   "display_name": "Python 3",
   "language": "python",
   "name": "python3"
  },
  "language_info": {
   "codemirror_mode": {
    "name": "ipython",
    "version": 3
   },
   "file_extension": ".py",
   "mimetype": "text/x-python",
   "name": "python",
   "nbconvert_exporter": "python",
   "pygments_lexer": "ipython3",
   "version": "3.7.4"
  }
 },
 "nbformat": 4,
 "nbformat_minor": 2
}
