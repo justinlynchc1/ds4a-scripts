{
 "cells": [
  {
   "cell_type": "markdown",
   "metadata": {},
   "source": [
    "# What Patterns Exist Between Energy Consumption and Generation?"
   ]
  },
  {
   "cell_type": "markdown",
   "metadata": {},
   "source": [
    "**Business Context.** Energy supply and demand is a hotly-debated topic across world governments and political parties. You are an analyst for a new nuclear power plant firm, and are responsible for discerning patterns in electric power generation and consumption across different energy sources as well as across sectors of the U.S. economy in order to help drive business strategy."
   ]
  },
  {
   "cell_type": "markdown",
   "metadata": {},
   "source": [
    "**Business Problem.** Your boss would like you answer the following question: **\"Given patterns in energy consumption across sectors and time, how should we allocate firm resources towards electricity generation?\"** and generate files of graphs that will make it as easy as possible for him to explain your findings to the non-technical C-suite so they can allocate resources appropriately across the firm."
   ]
  },
  {
   "cell_type": "markdown",
   "metadata": {},
   "source": [
    "**Analytical Context.** You are given data in CSV format from the Energy Information Administration (EIA) for both energy consumption and net electricity generation, where energy consumption is broken down by sector and electricity generation is broken down by source. In this case, you will: (1) pre-process the data to transform it into a format amenable to later analysis; (2) utilize simple plotting functionality in Python to explore relationships between energy consumption in the electric power sector and electricity generation from nuclear electric power; (3) identify any patterns in energy usage and generation and how they change over time; and finally (4) use advanced plotting functionality to determine which sectors consume the most energy and how this has evolved over time."
   ]
  },
  {
   "cell_type": "code",
   "execution_count": 1,
   "metadata": {},
   "outputs": [],
   "source": [
    "# Load packages\n",
    "import os\n",
    "import pandas as pd\n",
    "import numpy as np\n",
    "\n",
    "# This line is needed to display plots inline in Jupyter Notebook\n",
    "%matplotlib inline\n",
    "\n",
    "# Required for basic python plotting functionality\n",
    "import matplotlib.pyplot as plt\n",
    "\n",
    "# Require for formatting dates later in the case\n",
    "import datetime\n",
    "import matplotlib.dates as mdates\n",
    "\n",
    "# Required to display image inline\n",
    "from IPython.display import Image\n",
    "\n",
    "# Advanced plotting functionality with seaborn\n",
    "import seaborn as sns\n",
    "sns.set(style=\"whitegrid\") # can set style depending on how you'd like it to look"
   ]
  },
  {
   "cell_type": "markdown",
   "metadata": {},
   "source": [
    "## Getting started with the Energy Information Administration (EIA) data"
   ]
  },
  {
   "cell_type": "markdown",
   "metadata": {},
   "source": [
    "The consumption and generation data are each given on a monthly basis in ```energy_consumption.csv``` and ```electricity_generation.csv```. The data contents and some useful characteristics to note about the data are as follows:\n",
    "\n",
    "### energy_consumption.csv\n",
    "- Contains monthly energy consumption by sector for the U.S.\n",
    "- Energy consumption is the use of energy as a source of heat or power or as an input in the manufacturing process\n",
    "- Primary energy is the first accounted for energy in a statistical energy balance, before any transformation to secondary or tertiary forms of energy.\n",
    "- Total energy consumption in sectors consists of primary energy consumption, electricity retail sales, and electrical system energy losses\n",
    "\n",
    "### electricity_generation.csv\n",
    "- Contains monthly net electricity generation for all sectors in the U.S.\n",
    "- Net electricity generation is the amount of gross electricity generation less station use (the electric energy consumed at the generating station(s) for station service or auxiliaries)\n",
    "- Btu stands for Britist Thermal Unit\n",
    "\n",
    "(Source: https://www.eia.gov/totalenergy/data/monthly/pdf/sec13.pdf)"
   ]
  },
  {
   "cell_type": "markdown",
   "metadata": {},
   "source": [
    "Let's begin by loading the data into Python:"
   ]
  },
  {
   "cell_type": "code",
   "execution_count": 2,
   "metadata": {},
   "outputs": [
    {
     "ename": "FileNotFoundError",
     "evalue": "[Errno 2] File b'/Users/jlynch/Desktop/DS4A/orig_cases/1.5/energy_consumption.csv' does not exist: b'/Users/jlynch/Desktop/DS4A/orig_cases/1.5/energy_consumption.csv'",
     "output_type": "error",
     "traceback": [
      "\u001b[0;31m---------------------------------------------------------------------------\u001b[0m",
      "\u001b[0;31mFileNotFoundError\u001b[0m                         Traceback (most recent call last)",
      "\u001b[0;32m<ipython-input-2-7ce8bd459733>\u001b[0m in \u001b[0;36m<module>\u001b[0;34m\u001b[0m\n\u001b[1;32m      3\u001b[0m \u001b[0melectricity_generation_file\u001b[0m \u001b[0;34m=\u001b[0m \u001b[0mos\u001b[0m\u001b[0;34m.\u001b[0m\u001b[0mpath\u001b[0m\u001b[0;34m.\u001b[0m\u001b[0mjoin\u001b[0m\u001b[0;34m(\u001b[0m\u001b[0mos\u001b[0m\u001b[0;34m.\u001b[0m\u001b[0mgetcwd\u001b[0m\u001b[0;34m(\u001b[0m\u001b[0;34m)\u001b[0m\u001b[0;34m,\u001b[0m\u001b[0;34m'electricity_generation.csv'\u001b[0m\u001b[0;34m)\u001b[0m\u001b[0;34m\u001b[0m\u001b[0;34m\u001b[0m\u001b[0m\n\u001b[1;32m      4\u001b[0m \u001b[0;34m\u001b[0m\u001b[0m\n\u001b[0;32m----> 5\u001b[0;31m \u001b[0menergy_df\u001b[0m \u001b[0;34m=\u001b[0m \u001b[0mpd\u001b[0m\u001b[0;34m.\u001b[0m\u001b[0mread_csv\u001b[0m\u001b[0;34m(\u001b[0m\u001b[0menergy_consumption_file\u001b[0m\u001b[0;34m)\u001b[0m\u001b[0;34m\u001b[0m\u001b[0;34m\u001b[0m\u001b[0m\n\u001b[0m\u001b[1;32m      6\u001b[0m \u001b[0melectricity_df\u001b[0m \u001b[0;34m=\u001b[0m \u001b[0mpd\u001b[0m\u001b[0;34m.\u001b[0m\u001b[0mread_csv\u001b[0m\u001b[0;34m(\u001b[0m\u001b[0melectricity_generation_file\u001b[0m\u001b[0;34m)\u001b[0m\u001b[0;34m\u001b[0m\u001b[0;34m\u001b[0m\u001b[0m\n",
      "\u001b[0;32m~/anaconda3/lib/python3.7/site-packages/pandas/io/parsers.py\u001b[0m in \u001b[0;36mparser_f\u001b[0;34m(filepath_or_buffer, sep, delimiter, header, names, index_col, usecols, squeeze, prefix, mangle_dupe_cols, dtype, engine, converters, true_values, false_values, skipinitialspace, skiprows, skipfooter, nrows, na_values, keep_default_na, na_filter, verbose, skip_blank_lines, parse_dates, infer_datetime_format, keep_date_col, date_parser, dayfirst, iterator, chunksize, compression, thousands, decimal, lineterminator, quotechar, quoting, doublequote, escapechar, comment, encoding, dialect, tupleize_cols, error_bad_lines, warn_bad_lines, delim_whitespace, low_memory, memory_map, float_precision)\u001b[0m\n\u001b[1;32m    700\u001b[0m                     skip_blank_lines=skip_blank_lines)\n\u001b[1;32m    701\u001b[0m \u001b[0;34m\u001b[0m\u001b[0m\n\u001b[0;32m--> 702\u001b[0;31m         \u001b[0;32mreturn\u001b[0m \u001b[0m_read\u001b[0m\u001b[0;34m(\u001b[0m\u001b[0mfilepath_or_buffer\u001b[0m\u001b[0;34m,\u001b[0m \u001b[0mkwds\u001b[0m\u001b[0;34m)\u001b[0m\u001b[0;34m\u001b[0m\u001b[0;34m\u001b[0m\u001b[0m\n\u001b[0m\u001b[1;32m    703\u001b[0m \u001b[0;34m\u001b[0m\u001b[0m\n\u001b[1;32m    704\u001b[0m     \u001b[0mparser_f\u001b[0m\u001b[0;34m.\u001b[0m\u001b[0m__name__\u001b[0m \u001b[0;34m=\u001b[0m \u001b[0mname\u001b[0m\u001b[0;34m\u001b[0m\u001b[0;34m\u001b[0m\u001b[0m\n",
      "\u001b[0;32m~/anaconda3/lib/python3.7/site-packages/pandas/io/parsers.py\u001b[0m in \u001b[0;36m_read\u001b[0;34m(filepath_or_buffer, kwds)\u001b[0m\n\u001b[1;32m    427\u001b[0m \u001b[0;34m\u001b[0m\u001b[0m\n\u001b[1;32m    428\u001b[0m     \u001b[0;31m# Create the parser.\u001b[0m\u001b[0;34m\u001b[0m\u001b[0;34m\u001b[0m\u001b[0;34m\u001b[0m\u001b[0m\n\u001b[0;32m--> 429\u001b[0;31m     \u001b[0mparser\u001b[0m \u001b[0;34m=\u001b[0m \u001b[0mTextFileReader\u001b[0m\u001b[0;34m(\u001b[0m\u001b[0mfilepath_or_buffer\u001b[0m\u001b[0;34m,\u001b[0m \u001b[0;34m**\u001b[0m\u001b[0mkwds\u001b[0m\u001b[0;34m)\u001b[0m\u001b[0;34m\u001b[0m\u001b[0;34m\u001b[0m\u001b[0m\n\u001b[0m\u001b[1;32m    430\u001b[0m \u001b[0;34m\u001b[0m\u001b[0m\n\u001b[1;32m    431\u001b[0m     \u001b[0;32mif\u001b[0m \u001b[0mchunksize\u001b[0m \u001b[0;32mor\u001b[0m \u001b[0miterator\u001b[0m\u001b[0;34m:\u001b[0m\u001b[0;34m\u001b[0m\u001b[0;34m\u001b[0m\u001b[0m\n",
      "\u001b[0;32m~/anaconda3/lib/python3.7/site-packages/pandas/io/parsers.py\u001b[0m in \u001b[0;36m__init__\u001b[0;34m(self, f, engine, **kwds)\u001b[0m\n\u001b[1;32m    893\u001b[0m             \u001b[0mself\u001b[0m\u001b[0;34m.\u001b[0m\u001b[0moptions\u001b[0m\u001b[0;34m[\u001b[0m\u001b[0;34m'has_index_names'\u001b[0m\u001b[0;34m]\u001b[0m \u001b[0;34m=\u001b[0m \u001b[0mkwds\u001b[0m\u001b[0;34m[\u001b[0m\u001b[0;34m'has_index_names'\u001b[0m\u001b[0;34m]\u001b[0m\u001b[0;34m\u001b[0m\u001b[0;34m\u001b[0m\u001b[0m\n\u001b[1;32m    894\u001b[0m \u001b[0;34m\u001b[0m\u001b[0m\n\u001b[0;32m--> 895\u001b[0;31m         \u001b[0mself\u001b[0m\u001b[0;34m.\u001b[0m\u001b[0m_make_engine\u001b[0m\u001b[0;34m(\u001b[0m\u001b[0mself\u001b[0m\u001b[0;34m.\u001b[0m\u001b[0mengine\u001b[0m\u001b[0;34m)\u001b[0m\u001b[0;34m\u001b[0m\u001b[0;34m\u001b[0m\u001b[0m\n\u001b[0m\u001b[1;32m    896\u001b[0m \u001b[0;34m\u001b[0m\u001b[0m\n\u001b[1;32m    897\u001b[0m     \u001b[0;32mdef\u001b[0m \u001b[0mclose\u001b[0m\u001b[0;34m(\u001b[0m\u001b[0mself\u001b[0m\u001b[0;34m)\u001b[0m\u001b[0;34m:\u001b[0m\u001b[0;34m\u001b[0m\u001b[0;34m\u001b[0m\u001b[0m\n",
      "\u001b[0;32m~/anaconda3/lib/python3.7/site-packages/pandas/io/parsers.py\u001b[0m in \u001b[0;36m_make_engine\u001b[0;34m(self, engine)\u001b[0m\n\u001b[1;32m   1120\u001b[0m     \u001b[0;32mdef\u001b[0m \u001b[0m_make_engine\u001b[0m\u001b[0;34m(\u001b[0m\u001b[0mself\u001b[0m\u001b[0;34m,\u001b[0m \u001b[0mengine\u001b[0m\u001b[0;34m=\u001b[0m\u001b[0;34m'c'\u001b[0m\u001b[0;34m)\u001b[0m\u001b[0;34m:\u001b[0m\u001b[0;34m\u001b[0m\u001b[0;34m\u001b[0m\u001b[0m\n\u001b[1;32m   1121\u001b[0m         \u001b[0;32mif\u001b[0m \u001b[0mengine\u001b[0m \u001b[0;34m==\u001b[0m \u001b[0;34m'c'\u001b[0m\u001b[0;34m:\u001b[0m\u001b[0;34m\u001b[0m\u001b[0;34m\u001b[0m\u001b[0m\n\u001b[0;32m-> 1122\u001b[0;31m             \u001b[0mself\u001b[0m\u001b[0;34m.\u001b[0m\u001b[0m_engine\u001b[0m \u001b[0;34m=\u001b[0m \u001b[0mCParserWrapper\u001b[0m\u001b[0;34m(\u001b[0m\u001b[0mself\u001b[0m\u001b[0;34m.\u001b[0m\u001b[0mf\u001b[0m\u001b[0;34m,\u001b[0m \u001b[0;34m**\u001b[0m\u001b[0mself\u001b[0m\u001b[0;34m.\u001b[0m\u001b[0moptions\u001b[0m\u001b[0;34m)\u001b[0m\u001b[0;34m\u001b[0m\u001b[0;34m\u001b[0m\u001b[0m\n\u001b[0m\u001b[1;32m   1123\u001b[0m         \u001b[0;32melse\u001b[0m\u001b[0;34m:\u001b[0m\u001b[0;34m\u001b[0m\u001b[0;34m\u001b[0m\u001b[0m\n\u001b[1;32m   1124\u001b[0m             \u001b[0;32mif\u001b[0m \u001b[0mengine\u001b[0m \u001b[0;34m==\u001b[0m \u001b[0;34m'python'\u001b[0m\u001b[0;34m:\u001b[0m\u001b[0;34m\u001b[0m\u001b[0;34m\u001b[0m\u001b[0m\n",
      "\u001b[0;32m~/anaconda3/lib/python3.7/site-packages/pandas/io/parsers.py\u001b[0m in \u001b[0;36m__init__\u001b[0;34m(self, src, **kwds)\u001b[0m\n\u001b[1;32m   1851\u001b[0m         \u001b[0mkwds\u001b[0m\u001b[0;34m[\u001b[0m\u001b[0;34m'usecols'\u001b[0m\u001b[0;34m]\u001b[0m \u001b[0;34m=\u001b[0m \u001b[0mself\u001b[0m\u001b[0;34m.\u001b[0m\u001b[0musecols\u001b[0m\u001b[0;34m\u001b[0m\u001b[0;34m\u001b[0m\u001b[0m\n\u001b[1;32m   1852\u001b[0m \u001b[0;34m\u001b[0m\u001b[0m\n\u001b[0;32m-> 1853\u001b[0;31m         \u001b[0mself\u001b[0m\u001b[0;34m.\u001b[0m\u001b[0m_reader\u001b[0m \u001b[0;34m=\u001b[0m \u001b[0mparsers\u001b[0m\u001b[0;34m.\u001b[0m\u001b[0mTextReader\u001b[0m\u001b[0;34m(\u001b[0m\u001b[0msrc\u001b[0m\u001b[0;34m,\u001b[0m \u001b[0;34m**\u001b[0m\u001b[0mkwds\u001b[0m\u001b[0;34m)\u001b[0m\u001b[0;34m\u001b[0m\u001b[0;34m\u001b[0m\u001b[0m\n\u001b[0m\u001b[1;32m   1854\u001b[0m         \u001b[0mself\u001b[0m\u001b[0;34m.\u001b[0m\u001b[0munnamed_cols\u001b[0m \u001b[0;34m=\u001b[0m \u001b[0mself\u001b[0m\u001b[0;34m.\u001b[0m\u001b[0m_reader\u001b[0m\u001b[0;34m.\u001b[0m\u001b[0munnamed_cols\u001b[0m\u001b[0;34m\u001b[0m\u001b[0;34m\u001b[0m\u001b[0m\n\u001b[1;32m   1855\u001b[0m \u001b[0;34m\u001b[0m\u001b[0m\n",
      "\u001b[0;32mpandas/_libs/parsers.pyx\u001b[0m in \u001b[0;36mpandas._libs.parsers.TextReader.__cinit__\u001b[0;34m()\u001b[0m\n",
      "\u001b[0;32mpandas/_libs/parsers.pyx\u001b[0m in \u001b[0;36mpandas._libs.parsers.TextReader._setup_parser_source\u001b[0;34m()\u001b[0m\n",
      "\u001b[0;31mFileNotFoundError\u001b[0m: [Errno 2] File b'/Users/jlynch/Desktop/DS4A/orig_cases/1.5/energy_consumption.csv' does not exist: b'/Users/jlynch/Desktop/DS4A/orig_cases/1.5/energy_consumption.csv'"
     ]
    }
   ],
   "source": [
    "# Load the data into python\n",
    "energy_consumption_file = os.path.join(os.getcwd(),'energy_consumption.csv')        \n",
    "electricity_generation_file = os.path.join(os.getcwd(),'electricity_generation.csv')\n",
    "\n",
    "energy_df = pd.read_csv(energy_consumption_file)\n",
    "electricity_df = pd.read_csv(electricity_generation_file)"
   ]
  },
  {
   "cell_type": "markdown",
   "metadata": {},
   "source": [
    "The ```Description``` column gives sector (energy consumption) or source (electricity generation) description. Let's look at all the available description values for each dataset to understand what data is available."
   ]
  },
  {
   "cell_type": "code",
   "execution_count": null,
   "metadata": {
    "scrolled": false
   },
   "outputs": [],
   "source": [
    "# Look at energy (consumption) data\n",
    "energy_df.head()"
   ]
  },
  {
   "cell_type": "code",
   "execution_count": null,
   "metadata": {},
   "outputs": [],
   "source": [
    "# Get all unique descriptions available\n",
    "print(energy_df['Description'].unique())"
   ]
  },
  {
   "cell_type": "code",
   "execution_count": null,
   "metadata": {
    "scrolled": false
   },
   "outputs": [],
   "source": [
    "# Look at electricity (generation) data\n",
    "electricity_df.head()"
   ]
  },
  {
   "cell_type": "code",
   "execution_count": null,
   "metadata": {
    "scrolled": true
   },
   "outputs": [],
   "source": [
    "# Get all unique descriptions available\n",
    "print(electricity_df['Description'].unique())"
   ]
  },
  {
   "cell_type": "markdown",
   "metadata": {},
   "source": [
    "Here we see that we have a variety of energy consumption sectors, as well as a variety of energy generation sources for each sector. We are specifically interested in nuclear electric power generation and electric power consumption as the firm's main sources of revenue stem from these."
   ]
  },
  {
   "cell_type": "markdown",
   "metadata": {},
   "source": [
    "## Pre-processing data to simplify analysis moving forward"
   ]
  },
  {
   "cell_type": "markdown",
   "metadata": {},
   "source": [
    "As you saw in previous cases, it is good to transform your data into a format which is amenable to further analysis. The ```YYYYMM``` column for the month and year is currently difficult to use, so let's parse them out separately:"
   ]
  },
  {
   "cell_type": "code",
   "execution_count": null,
   "metadata": {},
   "outputs": [],
   "source": [
    "# Extract the month\n",
    "energy_df['MM'] = energy_df['YYYYMM'].apply(lambda x: int(str(x)[-2:]))\n",
    "electricity_df['MM'] = electricity_df['YYYYMM'].apply(lambda x: int(str(x)[-2:]))\n",
    "\n",
    "# Extract the year\n",
    "energy_df['YYYY'] = energy_df['YYYYMM'].apply(lambda x: int(str(x)[:-2]))\n",
    "electricity_df['YYYY'] = electricity_df['YYYYMM'].apply(lambda x: int(str(x)[:-2]))"
   ]
  },
  {
   "cell_type": "markdown",
   "metadata": {},
   "source": [
    "Moreover, noticed that the existing descriptions are quite long. We might as well use some abbreviations:\n",
    "\n",
    "- PEC: Primary Energy Consumption\n",
    "- TEC: Total Energy Consumption\n",
    "- ENG: Electricity Net Generation\n",
    "\n",
    "Let's change the ```Description``` column to use the abbreviated form and reduce the clutter of the output. This will be useful when we are plotting later on and want clean organized figures:"
   ]
  },
  {
   "cell_type": "code",
   "execution_count": null,
   "metadata": {
    "scrolled": true
   },
   "outputs": [],
   "source": [
    "# Rename Descriptions for the energy data\n",
    "energy_short_dict = {'Primary Energy Consumed by the Commercial Sector': 'PEC Commercial Sector',\n",
    "              'Primary Energy Consumed by the Electric Power Sector': 'PEC Electric Power Sector',\n",
    "              'Primary Energy Consumed by the Industrial Sector': 'PEC Industrial Sector',\n",
    "              'Primary Energy Consumed by the Residential Sector': 'PEC Residential Sector',\n",
    "              'Primary Energy Consumed by the Transportation Sector': 'PEC Transportation Sector',\n",
    "              'Primary Energy Consumption Total': 'PEC Total',\n",
    "              'Total Energy Consumed by the Commercial Sector': 'TEC Commercial Sector',\n",
    "              'Total Energy Consumed by the Industrial Sector': 'TEC Industrial Sector',\n",
    "              'Total Energy Consumed by the Residential Sector': 'TEC Residential Sector',\n",
    "              'Total Energy Consumed by the Transportation Sector': 'TEC Transportation Sector'}\n",
    "\n",
    "# Clean up names by shortening description\n",
    "clean_energy_df = energy_df.copy()\n",
    "clean_energy_df['Description'] = clean_energy_df['Description'].apply(lambda x: energy_short_dict[x])\n",
    "clean_energy_df.head()"
   ]
  },
  {
   "cell_type": "code",
   "execution_count": null,
   "metadata": {
    "scrolled": false
   },
   "outputs": [],
   "source": [
    "# Rename Descriptions for the electricity data\n",
    "electricity_short_dict = {'Electricity Net Generation From Coal, All Sectors': 'ENG Coal',\n",
    "                          'Electricity Net Generation From Conventional Hydroelectric Power, All Sectors': 'ENG HE Power',\n",
    "                          'Electricity Net Generation From Geothermal, All Sectors': 'ENG Geothermal',\n",
    "                          'Electricity Net Generation From Hydroelectric Pumped Storage, All Sectors': 'ENG HE Pumped Storage',\n",
    "                          'Electricity Net Generation From Natural Gas, All Sectors': 'ENG Natural Gas',\n",
    "                          'Electricity Net Generation From Nuclear Electric Power, All Sectors': 'ENG Nuclear Electric Power',\n",
    "                          'Electricity Net Generation From Other Gases, All Sectors': 'ENG Other Gases',\n",
    "                          'Electricity Net Generation From Petroleum, All Sectors': 'ENG Petroleum',\n",
    "                          'Electricity Net Generation From Solar, All Sectors': 'ENG Solar',\n",
    "                          'Electricity Net Generation From Waste, All Sectors': 'ENG Waste',\n",
    "                          'Electricity Net Generation From Wind, All Sectors': 'ENG Wind',\n",
    "                          'Electricity Net Generation From Wood, All Sectors': 'ENG Wood',\n",
    "                          'Electricity Net Generation Total, All Sectors': 'ENG Total'}\n",
    "\n",
    "# Clean up names by shortening description\n",
    "clean_electricity_df = electricity_df.copy()\n",
    "clean_electricity_df['Description'] = clean_electricity_df['Description'].apply(lambda x: electricity_short_dict[x])\n",
    "clean_electricity_df.head()"
   ]
  },
  {
   "cell_type": "markdown",
   "metadata": {},
   "source": [
    "With the processed data let's start to visualize to see if we can uncover hidden patterns."
   ]
  },
  {
   "cell_type": "markdown",
   "metadata": {},
   "source": [
    "## Identifying the relationship between energy consumption and generation"
   ]
  },
  {
   "cell_type": "markdown",
   "metadata": {},
   "source": [
    "Recall that our boss wants to determine how to optimally allocate the firm's electricity generation resources given consumption patterns. Thus, it makes sense to look at how consumption patterns have generally varied across time and sectors in order to drive electricity generation strategy. Let's analyze this by doing some basic plotting in Python's ubiquitous plotting package ```matplotlib```. Given that we represent a global nuclear power plant firm, one thing that makes sense to look at is the relationship between energy consumption by each major sector and the net energy generation from nuclear electric power. We will first use a 2D scatterplot to visualize the data. Scatterplots are versatile and are often the first type of plot one uses when visualizing a dataset.\n",
    "\n",
    "We'll start with the electric power sector; we'll build a scatterplot with ```PEC Electric Power Sector``` on the y-axis, and ```ENG Nuclear Electric Power``` on the x-axis. This will allow us to see how electric power energy consumption moves in relation to nuclear electric power generation:"
   ]
  },
  {
   "cell_type": "code",
   "execution_count": null,
   "metadata": {},
   "outputs": [],
   "source": [
    "# Define the consumption and generation categories we are interested in\n",
    "consume_category = 'PEC Electric Power Sector'\n",
    "generate_category = 'ENG Nuclear Electric Power'\n",
    "\n",
    "# Select the Electric Power Sector for energy consumption\n",
    "consume_df = clean_energy_df[clean_energy_df['Description'] == consume_category][['YYYYMM','Value']].reset_index(drop=True)\n",
    "\n",
    "# Select nuclear electric power for energy consumption (all sectors)\n",
    "generate_df = clean_electricity_df[clean_electricity_df['Description'] == generate_category][['YYYYMM','Value']].reset_index(drop=True)\n",
    "\n",
    "# Merge into one data frame for ease of plotting\n",
    "merged_df = pd.merge(consume_df, generate_df, how='left', on=['YYYYMM'], suffixes=('_CONSUME','_GENERATE'))\n",
    "\n",
    "merged_df.head()"
   ]
  },
  {
   "cell_type": "code",
   "execution_count": null,
   "metadata": {},
   "outputs": [],
   "source": [
    "# Create basic scatter plot to view two-variable relationship\n",
    "plt.figure(figsize=(15, 7))\n",
    "plt.scatter(merged_df['Value_GENERATE'], merged_df['Value_CONSUME'], s=1)\n",
    "plt.title('Nuclearn Electric Power Analysis');\n",
    "plt.xlabel(generate_category);\n",
    "plt.ylabel(consume_category);"
   ]
  },
  {
   "cell_type": "markdown",
   "metadata": {},
   "source": [
    "### Exercise 1:\n",
    "\n",
    "Write code to produce additional scatterplots that give insight into the relationship between the energy consumption for the commercial sector and nuclear electric power net energy generation. Is the relationship between these variables stronger or weaker when compared to the electric power sector's result? What might this mean in terms of a potential business recommendation?"
   ]
  },
  {
   "cell_type": "markdown",
   "metadata": {},
   "source": [
    "**Answer.** One possible solution is shown below:"
   ]
  },
  {
   "cell_type": "code",
   "execution_count": null,
   "metadata": {},
   "outputs": [],
   "source": [
    "consume_category = 'PEC Commercial Sector'\n",
    "generate_category = 'ENG Nuclear Electric Power'\n",
    "\n",
    "# Select electric power sector for energy consumption \n",
    "consume_df = clean_energy_df[clean_energy_df['Description'] == consume_category][['YYYYMM','Value']].reset_index(drop=True)\n",
    "\n",
    "# Select electricity generated by all sectors\n",
    "generate_df = clean_electricity_df[clean_electricity_df['Description'] == generate_category][['YYYYMM','Value']].reset_index(drop=True)\n",
    "\n",
    "# Merge into one data frame for ease of plotting\n",
    "merged_df = pd.merge(consume_df, generate_df, how='left', on=['YYYYMM'], suffixes=('_CONSUME','_GENERATE'))\n",
    "\n",
    "# Basic scatter plot\n",
    "plt.figure(figsize=(15, 7))\n",
    "plt.scatter(merged_df['Value_GENERATE'], merged_df['Value_CONSUME'], s=1)\n",
    "plt.title('Nuclear Electric Power Analysis');\n",
    "plt.xlabel(generate_category);\n",
    "plt.ylabel(consume_category);"
   ]
  },
  {
   "cell_type": "markdown",
   "metadata": {},
   "source": [
    "From these plots we see that commercial sector consumption levels do not track nuclear electric power generation levels very well, while electric power sector levels do. This may mean that it is critical for your firm to dedicate significant resources towards electricity generation for the electric power sector, as it seems to be a significant driver of marginal demand for nuclear power."
   ]
  },
  {
   "cell_type": "markdown",
   "metadata": {},
   "source": [
    "## Trends in energy consumption and generation over time"
   ]
  },
  {
   "cell_type": "markdown",
   "metadata": {},
   "source": [
    "While a scatterplot helps us visualize the relationship between two variables, it does not allow us to look at something across time. For this, we will a different tool: the **line plot**.\n",
    "\n",
    "A line plot is excellent for viewing time series data and will help us determine any trends and cyclical patterns across time for both electric power sector energy consumption and nuclear electric power energy generation.\n",
    "\n",
    "Let's build a line plot for each of these series:"
   ]
  },
  {
   "cell_type": "code",
   "execution_count": null,
   "metadata": {},
   "outputs": [],
   "source": [
    "consume_category = 'PEC Electric Power Sector'\n",
    "generate_category = 'ENG Nuclear Electric Power'\n",
    "\n",
    "# Select electric power sector for energy consumption \n",
    "consume_df = clean_energy_df[clean_energy_df['Description'] == consume_category][['YYYYMM','Value']].reset_index(drop=True)\n",
    "\n",
    "# Select electricity generated by all sectors\n",
    "generate_df = clean_electricity_df[clean_electricity_df['Description'] == generate_category][['YYYYMM','Value']].reset_index(drop=True)\n",
    "\n",
    "# Merge into one data frame for ease of plotting\n",
    "merged_df = pd.merge(consume_df, generate_df, how='left', on=['YYYYMM'], suffixes=('_CONSUME','_GENERATE'))"
   ]
  },
  {
   "cell_type": "code",
   "execution_count": null,
   "metadata": {},
   "outputs": [],
   "source": [
    "# Line plot for energy consumption over time\n",
    "plt.figure(figsize=(15,3))\n",
    "plt.plot(merged_df['Value_CONSUME'])\n",
    "plt.title('Line Plot: ' + consume_category)\n",
    "plt.xlabel('Index');\n",
    "plt.ylabel(consume_category);\n",
    "\n",
    "# Line plot for electricity generation over time\n",
    "plt.figure(figsize=(15,3))\n",
    "plt.plot(merged_df['Value_GENERATE'])\n",
    "plt.title('Line Plot: ' + generate_category)\n",
    "plt.xlabel('Index');\n",
    "plt.ylabel(generate_category);"
   ]
  },
  {
   "cell_type": "markdown",
   "metadata": {
    "scrolled": false
   },
   "source": [
    "Notice here we see that both energy consumption and generation are increasing over time, with a strong cyclical trend (observe the oscillating nature of the time series). However, the way in which we've plotted these line plots do not nicely format the x-axis. We'd like the x-axis to be dates rather than simply the DataFrame index value."
   ]
  },
  {
   "cell_type": "markdown",
   "metadata": {},
   "source": [
    "### Enhancing time series visualization by including formatted dates in the line plot"
   ]
  },
  {
   "cell_type": "markdown",
   "metadata": {},
   "source": [
    "Luckily, Python allows us to nicely format dates for display in the plot. This is useful when including work in a report that will be presented to an audience, as it is more professional and more easily understandable by non-technical persons:"
   ]
  },
  {
   "cell_type": "code",
   "execution_count": null,
   "metadata": {},
   "outputs": [],
   "source": [
    "# Convert YYYYMM string to datetime format\n",
    "merged_df['YYYYMM_dt'] = merged_df['YYYYMM'].apply(lambda x: datetime.datetime.strptime(str(x), \"%Y%m\"))\n",
    "merged_df.head()"
   ]
  },
  {
   "cell_type": "code",
   "execution_count": null,
   "metadata": {
    "scrolled": false
   },
   "outputs": [],
   "source": [
    "# Enhanced line plot for energy consumption over time\n",
    "fig, ax = plt.subplots(figsize=(15,3))\n",
    "ax.plot(merged_df['YYYYMM_dt'], merged_df['Value_CONSUME'])\n",
    "ax.xaxis.set_major_formatter(mdates.DateFormatter('%Y-%m')) # format x-axis display\n",
    "plt.title('Enhanced Line Plot: ' + consume_category)\n",
    "plt.xlabel('Date');\n",
    "plt.ylabel(consume_category);\n",
    "\n",
    "# Enhanced line plot for electricity generation over time\n",
    "fig, ax = plt.subplots(figsize=(15,3))\n",
    "ax.plot(merged_df['YYYYMM_dt'], merged_df['Value_GENERATE'])\n",
    "ax.xaxis.set_major_formatter(mdates.DateFormatter('%Y-%m')) # format x-axis display\n",
    "plt.title('Enhanced Line Plot: ' + generate_category)\n",
    "plt.xlabel('Date');\n",
    "plt.ylabel(generate_category);"
   ]
  },
  {
   "cell_type": "markdown",
   "metadata": {},
   "source": [
    "### Exercise 2:\n",
    "\n",
    "Write code to determine if the oscillations in variable ```PEC Electric Power Sector``` are getting larger over time (hint: use ```merged_df['Value_CONSUME'].pct_change()```). Plot the percentage change for each month across time, using the formated dates on the x-axis."
   ]
  },
  {
   "cell_type": "markdown",
   "metadata": {},
   "source": [
    "**Answer.** One possible solution is shown below:"
   ]
  },
  {
   "cell_type": "code",
   "execution_count": null,
   "metadata": {},
   "outputs": [],
   "source": [
    "fig, ax = plt.subplots(figsize=(15,3))\n",
    "ax.plot(merged_df['YYYYMM_dt'], merged_df['Value_CONSUME'].pct_change())\n",
    "ax.xaxis.set_major_formatter(mdates.DateFormatter('%Y-%m')) # format x-axis display\n",
    "plt.title('Monthly percentage change energy consumption')\n",
    "plt.xlabel('Date');\n",
    "plt.ylabel(consume_category);"
   ]
  },
  {
   "cell_type": "markdown",
   "metadata": {},
   "source": [
    "We see that the percentage changes from month to month are not growing significantly over time. This indicates that the percentage fluctuations in energy consumption remains relatively constant, even as the total amount of energy used across time has grown."
   ]
  },
  {
   "cell_type": "markdown",
   "metadata": {},
   "source": [
    "In light of this, one useful statistic to better understand energy usage relative to electricity generation is the ratio of energy consumed to electricity generated. This may give us insight into how well supply meets demand and how our nuclear power plant business may expand and contract electricity generation in high or low demand periods."
   ]
  },
  {
   "cell_type": "markdown",
   "metadata": {},
   "source": [
    "## Analyzing the ratio of energy consumed to electricity generated\n",
    "\n",
    "Let's calculate the ratio of energy consumed over energy generated. Using ```pandas```'s ```describe()``` method, let's take a look at the distribution of this ratio. Understanding the distribution of the ratio will allow use to see how energy consumption and electricity generation deviate relative to one another. We will continue to look at the ```PEC Electric Power Sector``` energy consumption and ```ENG Nuclear Electric Power``` energy generation for this:"
   ]
  },
  {
   "cell_type": "code",
   "execution_count": null,
   "metadata": {
    "scrolled": true
   },
   "outputs": [],
   "source": [
    "# Add an additional 'Ratio' feature: energy consumed / energy generated\n",
    "merged_df['Ratio'] = merged_df['Value_CONSUME'] / merged_df['Value_GENERATE']\n",
    "merged_df['MM'] = merged_df['YYYYMM'].apply(lambda x: int(str(x)[-2:])) # add month for grouping in boxplot\n",
    "merged_df['Ratio'].describe()"
   ]
  },
  {
   "cell_type": "markdown",
   "metadata": {},
   "source": [
    "It's also useful to obtain graphical representation of the distribution of data by constructing a histogram. A histogram can be displayed using the ```plt.hist()``` method in Python. This histogram method takes the ```bin``` input which indicates how granularly you'd like to view the data. In this case, we will use 50 bins:"
   ]
  },
  {
   "cell_type": "code",
   "execution_count": null,
   "metadata": {},
   "outputs": [],
   "source": [
    "plt.hist(merged_df['Ratio'], bins=50);"
   ]
  },
  {
   "cell_type": "markdown",
   "metadata": {},
   "source": [
    "Here we see that the ```Ratio``` variable is largely clustered around 0.05, with some large values that extend upward to 0.25, although these higher values are not common (hence they have a bar with a smaller height in the histogram). \n",
    "\n",
    "Is there something that combines a visual for the distribution of the data with summary statistics? There is! - the **boxplot**. Boxplots are a quick and easy graphical method to observe if significant extreme values are present in the data and can offer insight into whether the data has a large variance or is skewed. Boxplots consist of an inner box, and two whiskers on either side. The central horizontal line in the middle of the box correponds the to the median of the data that boxplot represents, while the upper and lower edges of the box represent the 75th percentile and 25th percentile of the data, respectively. The whiskers are drawn 1.5 * IQR distance from the edges of the box, where IQR is the interquartile range of the data, namely the 75th percentile value minus the 25th percentile value. Thus, boxplots give a great visual summary of the distribution of the data. **(NEED MORE EDITS)**\n",
    "\n",
    "Since we saw a cyclical pattern in the line plot analysis preceding this section, let's take a closer look at how the distribution of the ratio of consumed to generated energy evolves over the different months of the year:"
   ]
  },
  {
   "cell_type": "code",
   "execution_count": null,
   "metadata": {},
   "outputs": [],
   "source": [
    "# Select months to use\n",
    "unique_months = [1,2,3,4,5,6,7,8,9,10,11,12]\n",
    "\n",
    "# Loop through all months and store each DataFrame in list\n",
    "df_list = []\n",
    "for month_int in unique_months:\n",
    "    temp_df = merged_df[merged_df['MM'] == month_int][['Ratio']].reset_index(drop=True) # Select month\n",
    "    temp_df = temp_df.rename(columns={'Ratio':'Ratio_'+str(month_int)}) # rename for ease of plotting\n",
    "    df_list.append(temp_df) # store for later concatenation\n",
    "\n",
    "# Aggregate data\n",
    "plot_df = pd.concat(df_list, axis=1)\n",
    "\n",
    "# Box plots\n",
    "fig, ax = plt.subplots(figsize=(15,5))\n",
    "plot_df.boxplot(ax=ax, showfliers=False)\n",
    "ax.set_xlabel('Month of Year');\n",
    "ax.set_title('Ratio Distribution by Month');"
   ]
  },
  {
   "cell_type": "markdown",
   "metadata": {},
   "source": [
    "Here, we see a pattern of higher ratios in the summer months, particularly July (month 7) and August (month 8). The boxes in the box plot shift upward in summer months, and subsequently shift downward in winter months."
   ]
  },
  {
   "cell_type": "markdown",
   "metadata": {},
   "source": [
    "### Exercise 3:\n",
    "\n",
    "Recall the ratio is the energy consumed (PEC Electric Power Sector) divided by the energy generated (ENG Nuclear Electric Power). We see that the ratio of consumed over generated energy has a slight upward trend in mid-year. What could be a possible reason for this pattern? What might you recommend to your boss based on this?"
   ]
  },
  {
   "cell_type": "markdown",
   "metadata": {},
   "source": [
    "**Answer.** The summer months lead to increased energy consumption directed towards cooling capacity due to the high heat across the U.S. The amount of power being generated does not increase as much as the energy being consumed does, so there is an upward trend in the ratio of consumed to generated energy. From this, it may be possible for your firm to step in and provide marginal quantities of energy to meet demand (however, there is more research you need to do to validate this opportunity)."
   ]
  },
  {
   "cell_type": "markdown",
   "metadata": {},
   "source": [
    "Now that we've seen some of Python's basic data visualization tools, let's begin to explore these cyclical peaks in the summer months using a second, highly-useful package - ```seaborn```."
   ]
  },
  {
   "cell_type": "markdown",
   "metadata": {},
   "source": [
    "## Using ```seaborn``` for advanced visualization of the identified cyclical patterns\n",
    "\n",
    "```seaborn``` is an extremely useful data visualization library for simple and complex figures. We will go through some important plotting functionality while continuing to identify trends in the energy data.\n",
    "\n",
    "To further explore the cyclical patterns identified in the summer months, let's label the rows in the ```merged_df``` that represent summer months (call them peak months) and use seaborn's ```pairplot()``` function to visualize the distributional differences in energy consumed and electricity generated between the peak and non-peak months:"
   ]
  },
  {
   "cell_type": "code",
   "execution_count": null,
   "metadata": {
    "scrolled": false
   },
   "outputs": [],
   "source": [
    "# Add a flag for summer months\n",
    "customized_df = merged_df.copy()\n",
    "customized_df['PEAK_FLAG'] = customized_df['YYYYMM'].apply(lambda x: 'PEAK' if str(x)[-2:] in ['07','08'] else 'NOT PEAK')\n",
    "\n",
    "sns.pairplot(customized_df, hue='PEAK_FLAG', x_vars=['YYYYMM','Value_CONSUME','Value_GENERATE','Ratio'], y_vars=['YYYYMM','Value_CONSUME','Value_GENERATE','Ratio'], plot_kws={'s':10});"
   ]
  },
  {
   "cell_type": "markdown",
   "metadata": {},
   "source": [
    "Here, we see that pair plot takes each numeric column in the DataFrame and creates a scatter plot against the other numeric columns. The resulting plots are then aligned in a grid for easy viewing. The plots along the main diagonal are plots of the distributions of the individual columns present in the DataFrame. Furthermore, note that all data points are colored according to their peak/non-peak status. Hence, ```pairplot()``` gives an incredible amount of information about our data.\n",
    "\n",
    "We observe that the peak months do have different distributions of energy consumed and energy generated compared to the non-peak months. But thus far, we've only looked at months at an aggregate level to see if some months have higher energy consumption and generation than others. Our boss wants us to investigate how these patterns have changed over time, and part of that assignment requires that we look at these patterns across years."
   ]
  },
  {
   "cell_type": "markdown",
   "metadata": {},
   "source": [
    "## Are peak consumption and generation months consistent across many years?\n",
    "\n",
    "Let's now break down the analysis to a month-by-month level over time to see if the peak cyclical patterns we see are stable across many decades of data.\n",
    "\n",
    "```seaborn``` offers a powerful **heatmap** method ```heatmap()``` that will allow us to nicely visualize the monthly energy consumed and electricity generated over time:"
   ]
  },
  {
   "cell_type": "code",
   "execution_count": null,
   "metadata": {},
   "outputs": [],
   "source": [
    "# Extract year to be used in heatmap\n",
    "customized_df['YYYY'] = customized_df['YYYYMM'].apply(lambda x: str(x)[:-2])\n",
    "\n",
    "# Create pivot table (formats data to make it easy to visualize data across months and years)\n",
    "pivot_elec_df = customized_df.pivot('MM','YYYY','Value_GENERATE')\n",
    "pivot_ener_df = customized_df.pivot('MM','YYYY','Value_CONSUME')"
   ]
  },
  {
   "cell_type": "code",
   "execution_count": null,
   "metadata": {},
   "outputs": [],
   "source": [
    "# Heat map of energy consumption by month and year\n",
    "fig, ax = plt.subplots(figsize=(15,5))\n",
    "sns.heatmap(pivot_ener_df, cmap=\"coolwarm\", ax=ax);\n",
    "ax.set_title('PEC Electric Power Sector');\n",
    "\n",
    "# Heat map of electricity generation by month and year\n",
    "fig, ax = plt.subplots(figsize=(15,5))\n",
    "sns.heatmap(pivot_elec_df, cmap=\"coolwarm\", ax=ax);\n",
    "ax.set_title('ENG Nuclear Electric Power');"
   ]
  },
  {
   "cell_type": "markdown",
   "metadata": {},
   "source": [
    "The color bar on the right indicates the level of the variable under study. Using the heatmap, it is easy to see that theer is a notable increase in both energy consumption and generation in the peak summer months that begin in the 1990s. However, in the earlier years (before 1990) the difference between the peak summer months and other months is not as marked (although it still exists). This may be due to the increase in usage of cooling units in the past few decades.\n",
    "\n",
    "Additionally, we see the overall energy consumed and electricity generated over time is increasing. This is indicated by the colors moving from blue to red in both heat maps as the years go by. This is expected as aggregate demand has increased due to numerous outside factors, such as population growth and increased technology usage, which both lead to increased energy demand and electricity supply. \n",
    "\n",
    "Evidently, these heatmaps are enormously useful to identify big, sweeping trends over time. However one downside of these heatmaps is that it is tough to be more granular and see changes in growth rates from year to year. Let's build a boxplot to better understand if growth is stable across time and whether this translates to growth in both the peak and non-peak months."
   ]
  },
  {
   "cell_type": "markdown",
   "metadata": {},
   "source": [
    "### Exercise 4:"
   ]
  },
  {
   "cell_type": "markdown",
   "metadata": {},
   "source": [
    "Given that we have looked at how the ratio of energy consumed to electricity generated moved over time, let's create a graphical view to determine how stable the relationship between these two quantites has been over the past few decades. Write a script to generate a heat map that shows the ratio of ```Electric Power Sector ``` energy consumption and ```ENG Nuclear Electric Power``` for each YYYY and MM. Use ```customized_df``` for the analysis."
   ]
  },
  {
   "cell_type": "markdown",
   "metadata": {},
   "source": [
    "**Answer.** One possible solution is shown below:"
   ]
  },
  {
   "cell_type": "code",
   "execution_count": null,
   "metadata": {},
   "outputs": [],
   "source": [
    "pivot_radio_df = customized_df.pivot('MM','YYYY','Ratio')\n",
    "\n",
    "# Heat map of the ratio by month and year\n",
    "fig, ax = plt.subplots(figsize=(15,5))\n",
    "sns.heatmap(pivot_radio_df, cmap=\"coolwarm\", ax=ax);\n",
    "ax.set_title('Ratio Over Time');"
   ]
  },
  {
   "cell_type": "markdown",
   "metadata": {},
   "source": [
    "Here we notice that the ratio of consumed energy to electricity generated has been relatively stable over time. There was a large deviation in the ratio of the two quantities in the early 1970s and a little bit into the early 1980s, but since then the values have generally been stable throughout the year."
   ]
  },
  {
   "cell_type": "markdown",
   "metadata": {},
   "source": [
    "## Assessing growth stability  differences in peak month energy demands across time\n",
    "One way to better understand growth stability of energy consumption and electricity generation is to view distributional data over time. In this case, we will combine boxplots for each year, splitting for peak and non-peak months, and determine how stable the growth the consumption and generation categories have been.\n",
    "\n",
    "We will again use seaborn's ```boxplot()``` functionality, but this time we will add a flag to draw two boxplots  for each year based on ```PEAK_FLAG```. The boxplots for peak and non-peak months will be different colors."
   ]
  },
  {
   "cell_type": "markdown",
   "metadata": {},
   "source": [
    "### Exercise 5:\n",
    "\n",
    "Focusing on ```customized_df```, write a script to generate the plot below."
   ]
  },
  {
   "cell_type": "code",
   "execution_count": null,
   "metadata": {},
   "outputs": [],
   "source": [
    "Image(\"ExampleImage.png\")"
   ]
  },
  {
   "cell_type": "markdown",
   "metadata": {},
   "source": [
    "**Answer.** One possible solution is shown below:"
   ]
  },
  {
   "cell_type": "code",
   "execution_count": null,
   "metadata": {},
   "outputs": [],
   "source": [
    "# Define figure size, create plot\n",
    "fig, ax = plt.subplots(figsize=(15,8))\n",
    "m = sns.boxplot(x=\"YYYY\",y=\"Value_CONSUME\",hue='PEAK_FLAG',data=customized_df,orient='vertical',showfliers=False)\n",
    "\n",
    "# Format plot\n",
    "plt.legend(loc='upper left')\n",
    "plt.title('Peak Months Consumption Analysis')\n",
    "plt.xticks(rotation=90);\n",
    "plt.xlabel('Year')\n",
    "plt.ylabel('PEC Electric Power Sector');"
   ]
  },
  {
   "cell_type": "markdown",
   "metadata": {},
   "source": [
    "Here we see that growth in both peak and non-peak months has been relatively stable but in recent years has plateaued. Also notice that the difference between peak and non-peak months have widened over time. This increased fluctuation between peak and non-peak months could present an opportunity to your firm, and is worth further investigation."
   ]
  },
  {
   "cell_type": "markdown",
   "metadata": {},
   "source": [
    "We've looked closely at the changes in nuclear electric power generation and consumption over time. Let's now shift towards the second part of your boss's request by looking at consumption patterns across sectors. This has important implications for how the C-suite should allocate resources for the nuclear power generation business."
   ]
  },
  {
   "cell_type": "markdown",
   "metadata": {},
   "source": [
    "## Which sectors consume the most energy?\n",
    "\n",
    "```seaborn``` provides a variety of plots that will be useful in this analysis. We will take a look at ```boxplot()``` and  ```stripplot()```. \n",
    "\n",
    "```seaborn``` easily splits the data into categories and creates a boxplot of values for each category:"
   ]
  },
  {
   "cell_type": "code",
   "execution_count": null,
   "metadata": {},
   "outputs": [],
   "source": [
    "# Boxplot of different sectors energy consumption values\n",
    "fig, ax = plt.subplots(figsize=(15,5))\n",
    "sns.boxplot(x=\"Description\", y=\"Value\", data=clean_energy_df, palette=\"Set3\", ax=ax)\n",
    "plt.xticks(rotation=90);\n",
    "plt.title('Energy consumption distributions by Sector');"
   ]
  },
  {
   "cell_type": "markdown",
   "metadata": {},
   "source": [
    "Here we see that the PEC Electric Power Sector has the highest energy consumption across all sectors. We also see the are sizable differences in the variability of energy consumption across sectors (some box plots have much larger interquartile ranges than others).\n",
    "\n",
    "However, although boxplots give you some insight into the distribution of the underlying data in each category, they are still relatively blunt instruments. For example, how is the data distributed within the interquartile range? Between the edges of the box and the whiskers? Since a boxplot is created from only five values, it cannot answer these fine-grained questions. However, the **strip plot** is able to combine a 1D scatterplot with a split by category to get an even more granular view of the data."
   ]
  },
  {
   "cell_type": "markdown",
   "metadata": {},
   "source": [
    "## A more granular view of energy consumption by sector\n",
    "\n",
    "```stripplot()``` in ```seaborn``` creates a series of 1D scatterplots (one for each data category) all sharing the same y-axis:"
   ]
  },
  {
   "cell_type": "code",
   "execution_count": null,
   "metadata": {
    "scrolled": false
   },
   "outputs": [],
   "source": [
    "# Create a stripplot() of the data for a nice granular view\n",
    "fig, ax = plt.subplots(figsize=(15,5))\n",
    "m = sns.stripplot(x=\"Description\", y=\"Value\", data=clean_energy_df, palette=\"Set3\", s=1, ax=ax)\n",
    "plt.xticks(rotation=90);\n",
    "plt.title('Energy consumption distributions by Sector');"
   ]
  },
  {
   "cell_type": "markdown",
   "metadata": {},
   "source": [
    "### Exercise 6:\n",
    "\n",
    "From the above graphs, which of the sectors has the widest range of PEC values? Which of the sector has the smallest range of PEC values? How could this information be useful to energy production companies?"
   ]
  },
  {
   "cell_type": "markdown",
   "metadata": {},
   "source": [
    "**Answer.** The widest range of values appears to be the electric power sector, while the smallest range of values comes from the commercial sector. The information on the spread of energy usage can be very important to companies to ensure they have adequate infrastructure in place to meet the varying demand of energy consumption. If there is a wide range of energy consumption over time, the energy producing firm must have a scalable infrastructure, while maintaining the ability to expand capacity when needed to meet excess energy demand."
   ]
  },
  {
   "cell_type": "markdown",
   "metadata": {},
   "source": [
    "Now, onto our final task - how do we generate files for these plots so that they can be used in your boss's presentation to the C-suite?"
   ]
  },
  {
   "cell_type": "markdown",
   "metadata": {},
   "source": [
    "# Programmatic plot generation"
   ]
  },
  {
   "cell_type": "markdown",
   "metadata": {},
   "source": [
    "Let's take a look at how to create plots of values for each energy consumption sector, in addition on how to programatically add a folder where we will save the plots as PNG files:"
   ]
  },
  {
   "cell_type": "code",
   "execution_count": null,
   "metadata": {},
   "outputs": [],
   "source": [
    "# Construct DataFrame that will be used for plotting\n",
    "plot_df = clean_energy_df.copy()\n",
    "plot_df['YYYYMM_dt'] = plot_df['YYYYMM'].apply(lambda x: datetime.datetime.strptime(str(x), \"%Y%m\"))\n",
    "plot_df.head()"
   ]
  },
  {
   "cell_type": "markdown",
   "metadata": {},
   "source": [
    "Now let's make a folder called ```PlotDir``` where will we save the plots in PNG files:"
   ]
  },
  {
   "cell_type": "code",
   "execution_count": null,
   "metadata": {},
   "outputs": [],
   "source": [
    "# Make new folder to save plots\n",
    "plot_dir = os.path.join(os.getcwd(), 'PlotDir')\n",
    "\n",
    "# Only make new folder if it doesnt already exist\n",
    "if not(os.path.isdir(plot_dir)):\n",
    "    os.mkdir(plot_dir) # creates new folder"
   ]
  },
  {
   "cell_type": "markdown",
   "metadata": {},
   "source": [
    "Finally, loop over all the energy consumption sectors, create line plots, and save the figures:"
   ]
  },
  {
   "cell_type": "code",
   "execution_count": null,
   "metadata": {
    "scrolled": false
   },
   "outputs": [],
   "source": [
    "# One can quickly generate and save plots with ease in Juypter\n",
    "unique_desc = sorted(plot_df['Description'].unique())\n",
    "for i in unique_desc:\n",
    "    fig, ax = plt.subplots(figsize=(15,4))\n",
    "    temp_df = plot_df[plot_df['Description'] == i]\n",
    "    ax.plot(temp_df['YYYYMM_dt'], temp_df['Value'])\n",
    "    ax.xaxis.set_major_formatter(mdates.DateFormatter('%Y%m')) # format x-axis display\n",
    "\n",
    "    plt.xlabel('Date')\n",
    "    plt.ylabel('Value')\n",
    "    plt.title('Data Description: ' + str(i))\n",
    "    plt.tight_layout()\n",
    "    \n",
    "    # Save to png\n",
    "    file_name = 'SectorPlot ' + str(i) + '.png'\n",
    "    print(\"Saving: \" + file_name)\n",
    "    fig.savefig(os.path.join(plot_dir,file_name)) # save to png (save in plot_dir)\n",
    "    plt.close(fig) # Do not print plots to notebook (large number of plots can take up significant memory)"
   ]
  },
  {
   "cell_type": "markdown",
   "metadata": {},
   "source": [
    "We've saved the results in the ```PlotDir``` folder. Each plot has been created with the same general code structure, thus ensuring the resulting plots are the same format, even though each one contains a different sector's data. This programmatic method of generating plots is highly useful when creating systematic data visualization procedures in both simple and complex data investigations."
   ]
  },
  {
   "cell_type": "markdown",
   "metadata": {},
   "source": [
    "### Exercise 7:\n",
    "\n",
    "Write a script to generate a plot of boxplots of ```Value``` for each year in ```clean_energy_df```, where the boxplots are created from the values of each sector category from ```Description``` . For example, the boxplot for year 2000 is below. Save the plots in PNG files in a new folder ```YearlyBoxplotDir``` (create this), and name the figures in the format ```YearlyBoxplot_[yearnum].png```, where you replace ```[yearnum]``` with the correct year. For example, the year 2000 boxplot is saved as ```YearlyBoxplot_2000.png```. You must produce one boxplot figure for each year from 1973 to 2018; hence, you will have one PNG image file per year."
   ]
  },
  {
   "cell_type": "code",
   "execution_count": null,
   "metadata": {
    "scrolled": false
   },
   "outputs": [],
   "source": [
    "# Example of one of the years boxplot figures\n",
    "Image(\"YearlyBoxplot_2000.png\")"
   ]
  },
  {
   "cell_type": "markdown",
   "metadata": {},
   "source": [
    "**Answer.** One possible solution is shown below:"
   ]
  },
  {
   "cell_type": "code",
   "execution_count": null,
   "metadata": {},
   "outputs": [],
   "source": [
    "# Make new folder to save plots\n",
    "boxplot_dir = os.path.join(os.getcwd(), 'YearlyBoxplotDir')\n",
    "\n",
    "# Only make new folder if it doesnt already exist\n",
    "if not(os.path.isdir(boxplot_dir)):\n",
    "    os.mkdir(boxplot_dir) # creates new folder\n",
    "\n",
    "# Get unique years to loop over\n",
    "unique_years = sorted(clean_energy_df['YYYY'].unique())\n",
    "\n",
    "for i in unique_years:\n",
    "    # Boxplot of different sectors energy consumption values\n",
    "    fig, ax = plt.subplots(figsize=(15,10))\n",
    "    sns.boxplot(x=\"Description\", y=\"Value\", data=clean_energy_df[clean_energy_df['YYYY'] == i], palette=\"Set3\", ax=ax)\n",
    "    plt.xticks(rotation=90);\n",
    "    plt.title('Energy consumption distributions by Sector')\n",
    "    plt.tight_layout()\n",
    "    \n",
    "    # Save to png\n",
    "    file_name = 'YearlyBoxplot_' + str(i) + '.png'\n",
    "    print(\"Saving: \" + file_name)\n",
    "    fig.savefig(os.path.join(boxplot_dir,file_name)) # save to png (save in plot_dir)\n",
    "    plt.close(fig) # Do not print plots to notebook (large number of plots can take up significant memory)"
   ]
  },
  {
   "cell_type": "markdown",
   "metadata": {},
   "source": [
    "## Conclusions"
   ]
  },
  {
   "cell_type": "markdown",
   "metadata": {},
   "source": [
    "We've done an extensive analysis of energy consumption and electricity generation trends over time and across sectors.\n",
    "\n",
    "We discovered that there is a peak in energy consumption and generation in the summer months of the year, and as time has passed the gap between peak and non-peak consumption has widened. This may present a market opportunity for a power plant which has the ability to expand and contract capacity when needed.\n",
    "\n",
    "Finally, we saw that different sectors have very different energy consumption profiles. In particular, the electric power sector seems to be a significant driver of marginal demand. This means that even for table stakes, your firm ought to dedicate significant resources towards that sector."
   ]
  },
  {
   "cell_type": "markdown",
   "metadata": {},
   "source": [
    "## Takeaways"
   ]
  },
  {
   "cell_type": "markdown",
   "metadata": {},
   "source": [
    "In this case we've covered a variety of data visualization techniques in Python. We covered basic plotting to observe relationships and trends across time, and introduced the ubiquitous ```seaborn``` library which offers advanced plotting functionality. We also learned how to programmatically generate plots which can be very useful to communicate with non-technical stakeholders when advocating for large organizational changes."
   ]
  },
  {
   "cell_type": "code",
   "execution_count": null,
   "metadata": {},
   "outputs": [],
   "source": []
  }
 ],
 "metadata": {
  "kernelspec": {
   "display_name": "Python 3",
   "language": "python",
   "name": "python3"
  },
  "language_info": {
   "codemirror_mode": {
    "name": "ipython",
    "version": 3
   },
   "file_extension": ".py",
   "mimetype": "text/x-python",
   "name": "python",
   "nbconvert_exporter": "python",
   "pygments_lexer": "ipython3",
   "version": "3.7.3"
  }
 },
 "nbformat": 4,
 "nbformat_minor": 1
}
